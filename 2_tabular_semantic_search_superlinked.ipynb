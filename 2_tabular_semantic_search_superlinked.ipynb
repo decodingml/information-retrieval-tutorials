{
 "cells": [
  {
   "cell_type": "markdown",
   "metadata": {},
   "source": [
    "# Tabular semantic search on top of Amazon products using Superlinked\n",
    "\n",
    "In this notebook we will explore how Superlinked works in building a tabular semantic search solution with natural language queries."
   ]
  },
  {
   "cell_type": "markdown",
   "metadata": {},
   "source": [
    "## Imports"
   ]
  },
  {
   "cell_type": "code",
   "execution_count": 1,
   "metadata": {},
   "outputs": [
    {
     "name": "stderr",
     "output_type": "stream",
     "text": [
      "/Users/pauliusztin/Documents/01_projects/hands-on-retrieval/.venv/lib/python3.11/site-packages/tqdm/auto.py:21: TqdmWarning: IProgress not found. Please update jupyter and ipywidgets. See https://ipywidgets.readthedocs.io/en/stable/user_install.html\n",
      "  from .autonotebook import tqdm as notebook_tqdm\n",
      "\u001b[32m2025-01-09 17:39:07.183\u001b[0m | \u001b[1mINFO    \u001b[0m | \u001b[36msuperlinked_app.config\u001b[0m:\u001b[36m<module>\u001b[0m:\u001b[36m9\u001b[0m - \u001b[1mLoading '.env' file from: /Users/pauliusztin/Documents/01_projects/hands-on-retrieval/.env\u001b[0m\n"
     ]
    }
   ],
   "source": [
    "%load_ext autoreload\n",
    "%autoreload 2\n",
    "\n",
    "import pandas as pd\n",
    "from superlinked import framework as sl\n",
    "\n",
    "from superlinked_app import index, query\n",
    "from superlinked_app.config import settings\n",
    "\n",
    "settings.validate_processed_dataset_exists()"
   ]
  },
  {
   "cell_type": "markdown",
   "metadata": {},
   "source": [
    "## Define the Superlinked app\n",
    "\n",
    "For exploring how Superlinked multi-attribute indexes and queries work we will use an `InMemory` vector database and executor. \n",
    "\n",
    "Mongo will be used when shipping the Superlinked app as a RESTful API."
   ]
  },
  {
   "cell_type": "code",
   "execution_count": 2,
   "metadata": {},
   "outputs": [],
   "source": [
    "source: sl.InMemorySource = sl.InMemorySource(\n",
    "    index.product,\n",
    "    parser=sl.DataFrameParser(schema=index.product, mapping={index.product.id: \"asin\"}),\n",
    ")\n",
    "executor = sl.InMemoryExecutor(sources=[source], indices=[index.product_index])\n",
    "app = executor.run()"
   ]
  },
  {
   "cell_type": "markdown",
   "metadata": {},
   "source": [
    "## Load the processed dataset"
   ]
  },
  {
   "cell_type": "code",
   "execution_count": 3,
   "metadata": {},
   "outputs": [
    {
     "data": {
      "text/html": [
       "<div>\n",
       "<style scoped>\n",
       "    .dataframe tbody tr th:only-of-type {\n",
       "        vertical-align: middle;\n",
       "    }\n",
       "\n",
       "    .dataframe tbody tr th {\n",
       "        vertical-align: top;\n",
       "    }\n",
       "\n",
       "    .dataframe thead th {\n",
       "        text-align: right;\n",
       "    }\n",
       "</style>\n",
       "<table border=\"1\" class=\"dataframe\">\n",
       "  <thead>\n",
       "    <tr style=\"text-align: right;\">\n",
       "      <th></th>\n",
       "      <th>asin</th>\n",
       "      <th>type</th>\n",
       "      <th>category</th>\n",
       "      <th>title</th>\n",
       "      <th>description</th>\n",
       "      <th>price</th>\n",
       "      <th>review_rating</th>\n",
       "      <th>review_count</th>\n",
       "    </tr>\n",
       "  </thead>\n",
       "  <tbody>\n",
       "    <tr>\n",
       "      <th>0</th>\n",
       "      <td>B07WP4RXHY</td>\n",
       "      <td>product</td>\n",
       "      <td>[Tools &amp; Home Improvement]</td>\n",
       "      <td>YUEPIN U-Tube Clamp 304 Stainless Steel Hose P...</td>\n",
       "      <td>Product Description Specification: Material: 3...</td>\n",
       "      <td>9.99</td>\n",
       "      <td>4.7</td>\n",
       "      <td>54</td>\n",
       "    </tr>\n",
       "    <tr>\n",
       "      <th>1</th>\n",
       "      <td>B07VRZTK2N</td>\n",
       "      <td>product</td>\n",
       "      <td>[]</td>\n",
       "      <td>Apron for Women, Waterproof Adjustable Bib Coo...</td>\n",
       "      <td></td>\n",
       "      <td>11.99</td>\n",
       "      <td>4.0</td>\n",
       "      <td>152</td>\n",
       "    </tr>\n",
       "    <tr>\n",
       "      <th>2</th>\n",
       "      <td>B07V2F5SN1</td>\n",
       "      <td>product</td>\n",
       "      <td>[Arts, Crafts &amp; Sewing]</td>\n",
       "      <td>DIY 5D Diamond Painting by Number Kit for Adul...</td>\n",
       "      <td>Product Description 5D DIY Diamond Painting is...</td>\n",
       "      <td>9.99</td>\n",
       "      <td>4.6</td>\n",
       "      <td>378</td>\n",
       "    </tr>\n",
       "    <tr>\n",
       "      <th>3</th>\n",
       "      <td>B00MNLQQ7K</td>\n",
       "      <td>product</td>\n",
       "      <td>[Patio, Lawn &amp; Garden]</td>\n",
       "      <td>Design Toscano QM2787100 Darby, the Forest Faw...</td>\n",
       "      <td></td>\n",
       "      <td>40.72</td>\n",
       "      <td>4.7</td>\n",
       "      <td>274</td>\n",
       "    </tr>\n",
       "    <tr>\n",
       "      <th>4</th>\n",
       "      <td>B089YD2KK5</td>\n",
       "      <td>product</td>\n",
       "      <td>[Clothing, Shoes &amp; Jewelry]</td>\n",
       "      <td>Crocs Jibbitz 5-Pack Alien Shoe Charms | Jibbi...</td>\n",
       "      <td>From the brand Previous page Shop Crocs Collec...</td>\n",
       "      <td>9.99</td>\n",
       "      <td>4.7</td>\n",
       "      <td>0</td>\n",
       "    </tr>\n",
       "  </tbody>\n",
       "</table>\n",
       "</div>"
      ],
      "text/plain": [
       "         asin     type                     category  \\\n",
       "0  B07WP4RXHY  product   [Tools & Home Improvement]   \n",
       "1  B07VRZTK2N  product                           []   \n",
       "2  B07V2F5SN1  product      [Arts, Crafts & Sewing]   \n",
       "3  B00MNLQQ7K  product       [Patio, Lawn & Garden]   \n",
       "4  B089YD2KK5  product  [Clothing, Shoes & Jewelry]   \n",
       "\n",
       "                                               title  \\\n",
       "0  YUEPIN U-Tube Clamp 304 Stainless Steel Hose P...   \n",
       "1  Apron for Women, Waterproof Adjustable Bib Coo...   \n",
       "2  DIY 5D Diamond Painting by Number Kit for Adul...   \n",
       "3  Design Toscano QM2787100 Darby, the Forest Faw...   \n",
       "4  Crocs Jibbitz 5-Pack Alien Shoe Charms | Jibbi...   \n",
       "\n",
       "                                         description  price  review_rating  \\\n",
       "0  Product Description Specification: Material: 3...   9.99            4.7   \n",
       "1                                                     11.99            4.0   \n",
       "2  Product Description 5D DIY Diamond Painting is...   9.99            4.6   \n",
       "3                                                     40.72            4.7   \n",
       "4  From the brand Previous page Shop Crocs Collec...   9.99            4.7   \n",
       "\n",
       "   review_count  \n",
       "0            54  \n",
       "1           152  \n",
       "2           378  \n",
       "3           274  \n",
       "4             0  "
      ]
     },
     "execution_count": 3,
     "metadata": {},
     "output_type": "execute_result"
    }
   ],
   "source": [
    "df = pd.read_json(settings.PROCESSED_DATASET_PATH, lines=True)\n",
    "df.head()"
   ]
  },
  {
   "cell_type": "code",
   "execution_count": 4,
   "metadata": {},
   "outputs": [
    {
     "data": {
      "text/plain": [
       "850"
      ]
     },
     "execution_count": 4,
     "metadata": {},
     "output_type": "execute_result"
    }
   ],
   "source": [
    "len(df)"
   ]
  },
  {
   "cell_type": "code",
   "execution_count": 5,
   "metadata": {},
   "outputs": [],
   "source": [
    "source.put([df])\n",
    "\n",
    "pd.set_option(\"display.max_colwidth\", 500)"
   ]
  },
  {
   "cell_type": "markdown",
   "metadata": {},
   "source": [
    "## Query books using filters & natural queries"
   ]
  },
  {
   "cell_type": "code",
   "execution_count": 6,
   "metadata": {},
   "outputs": [
    {
     "name": "stderr",
     "output_type": "stream",
     "text": [
      "\u001b[32m2025-01-09 17:47:41.440\u001b[0m | \u001b[1mINFO    \u001b[0m | \u001b[36msuperlinked_app.config\u001b[0m:\u001b[36m<module>\u001b[0m:\u001b[36m9\u001b[0m - \u001b[1mLoading '.env' file from: /Users/pauliusztin/Documents/01_projects/hands-on-retrieval/.env\u001b[0m\n"
     ]
    },
    {
     "data": {
      "text/plain": [
       "{'title_weight': 0.0,\n",
       " 'description_weight': 1.0,\n",
       " 'review_rating_maximizer_weight': 0.0,\n",
       " 'price_minimizer_weights': 0.0,\n",
       " 'limit': 3,\n",
       " 'natural_query': 'books with a price lower than 100',\n",
       " 'filter_by_type': 'book',\n",
       " 'query_description': 'books',\n",
       " 'filter_by_cateogry': None,\n",
       " 'review_rating_bigger_than': None,\n",
       " 'price_smaller_than': 100.0,\n",
       " 'radius_param': None,\n",
       " 'description_similar_clause_weight': 1.0}"
      ]
     },
     "execution_count": 6,
     "metadata": {},
     "output_type": "execute_result"
    }
   ],
   "source": [
    "results = app.query(\n",
    "    query.filter_query,\n",
    "    natural_query=\"books with a price lower than 100\",\n",
    "    limit=3,\n",
    ")\n",
    "results.knn_params"
   ]
  },
  {
   "cell_type": "code",
   "execution_count": 7,
   "metadata": {},
   "outputs": [
    {
     "data": {
      "text/html": [
       "<div>\n",
       "<style scoped>\n",
       "    .dataframe tbody tr th:only-of-type {\n",
       "        vertical-align: middle;\n",
       "    }\n",
       "\n",
       "    .dataframe tbody tr th {\n",
       "        vertical-align: top;\n",
       "    }\n",
       "\n",
       "    .dataframe thead th {\n",
       "        text-align: right;\n",
       "    }\n",
       "</style>\n",
       "<table border=\"1\" class=\"dataframe\">\n",
       "  <thead>\n",
       "    <tr style=\"text-align: right;\">\n",
       "      <th></th>\n",
       "      <th>type</th>\n",
       "      <th>category</th>\n",
       "      <th>title</th>\n",
       "      <th>description</th>\n",
       "      <th>review_rating</th>\n",
       "      <th>review_count</th>\n",
       "      <th>price</th>\n",
       "      <th>id</th>\n",
       "      <th>similarity_score</th>\n",
       "      <th>rank</th>\n",
       "    </tr>\n",
       "  </thead>\n",
       "  <tbody>\n",
       "    <tr>\n",
       "      <th>0</th>\n",
       "      <td>book</td>\n",
       "      <td>[Books]</td>\n",
       "      <td>100 Days to Brave: Devotions for Unlocking Your Most Courageous Self</td>\n",
       "      <td>nan</td>\n",
       "      <td>4.7</td>\n",
       "      <td>0</td>\n",
       "      <td>9.01</td>\n",
       "      <td>031008962X</td>\n",
       "      <td>0.532175</td>\n",
       "      <td>0</td>\n",
       "    </tr>\n",
       "    <tr>\n",
       "      <th>1</th>\n",
       "      <td>book</td>\n",
       "      <td>[Books]</td>\n",
       "      <td>Stables: Beautiful Paddocks, Horse Barns, and Tack Rooms</td>\n",
       "      <td>nan</td>\n",
       "      <td>4.7</td>\n",
       "      <td>100</td>\n",
       "      <td>53.10</td>\n",
       "      <td>0847833143</td>\n",
       "      <td>0.532175</td>\n",
       "      <td>1</td>\n",
       "    </tr>\n",
       "    <tr>\n",
       "      <th>2</th>\n",
       "      <td>book</td>\n",
       "      <td>[Books]</td>\n",
       "      <td>Spectrum Algebra 1 Workbook, Grades 6-8 Math Covering Algebra Equations, Fractions, Inequalities, Graphing, Rational Numbers, Classroom or Homeschool Curriculum</td>\n",
       "      <td>nan</td>\n",
       "      <td>4.6</td>\n",
       "      <td>0</td>\n",
       "      <td>7.86</td>\n",
       "      <td>1483816648</td>\n",
       "      <td>0.532175</td>\n",
       "      <td>2</td>\n",
       "    </tr>\n",
       "  </tbody>\n",
       "</table>\n",
       "</div>"
      ],
      "text/plain": [
       "   type category  \\\n",
       "0  book  [Books]   \n",
       "1  book  [Books]   \n",
       "2  book  [Books]   \n",
       "\n",
       "                                                                                                                                                              title  \\\n",
       "0                                                                                              100 Days to Brave: Devotions for Unlocking Your Most Courageous Self   \n",
       "1                                                                                                          Stables: Beautiful Paddocks, Horse Barns, and Tack Rooms   \n",
       "2  Spectrum Algebra 1 Workbook, Grades 6-8 Math Covering Algebra Equations, Fractions, Inequalities, Graphing, Rational Numbers, Classroom or Homeschool Curriculum   \n",
       "\n",
       "  description  review_rating  review_count  price          id  \\\n",
       "0         nan            4.7             0   9.01  031008962X   \n",
       "1         nan            4.7           100  53.10  0847833143   \n",
       "2         nan            4.6             0   7.86  1483816648   \n",
       "\n",
       "   similarity_score  rank  \n",
       "0          0.532175     0  \n",
       "1          0.532175     1  \n",
       "2          0.532175     2  "
      ]
     },
     "execution_count": 7,
     "metadata": {},
     "output_type": "execute_result"
    }
   ],
   "source": [
    "results.to_pandas()"
   ]
  },
  {
   "cell_type": "code",
   "execution_count": 8,
   "metadata": {},
   "outputs": [
    {
     "data": {
      "text/plain": [
       "{'title_weight': 0.0,\n",
       " 'description_weight': 1.0,\n",
       " 'review_rating_maximizer_weight': 0.0,\n",
       " 'price_minimizer_weights': 0.0,\n",
       " 'limit': 3,\n",
       " 'natural_query': 'books with a price lower than 100 and a rating bigger than 4',\n",
       " 'filter_by_type': 'book',\n",
       " 'query_description': 'books',\n",
       " 'filter_by_cateogry': None,\n",
       " 'review_rating_bigger_than': 4.0,\n",
       " 'price_smaller_than': 100.0,\n",
       " 'radius_param': None,\n",
       " 'description_similar_clause_weight': 1.0}"
      ]
     },
     "execution_count": 8,
     "metadata": {},
     "output_type": "execute_result"
    }
   ],
   "source": [
    "results = app.query(\n",
    "    query.filter_query,\n",
    "    natural_query=\"books with a price lower than 100 and a rating bigger than 4\",\n",
    "    limit=3,\n",
    ")\n",
    "results.knn_params"
   ]
  },
  {
   "cell_type": "code",
   "execution_count": 9,
   "metadata": {},
   "outputs": [
    {
     "data": {
      "text/html": [
       "<div>\n",
       "<style scoped>\n",
       "    .dataframe tbody tr th:only-of-type {\n",
       "        vertical-align: middle;\n",
       "    }\n",
       "\n",
       "    .dataframe tbody tr th {\n",
       "        vertical-align: top;\n",
       "    }\n",
       "\n",
       "    .dataframe thead th {\n",
       "        text-align: right;\n",
       "    }\n",
       "</style>\n",
       "<table border=\"1\" class=\"dataframe\">\n",
       "  <thead>\n",
       "    <tr style=\"text-align: right;\">\n",
       "      <th></th>\n",
       "      <th>type</th>\n",
       "      <th>category</th>\n",
       "      <th>title</th>\n",
       "      <th>description</th>\n",
       "      <th>review_rating</th>\n",
       "      <th>review_count</th>\n",
       "      <th>price</th>\n",
       "      <th>id</th>\n",
       "      <th>similarity_score</th>\n",
       "      <th>rank</th>\n",
       "    </tr>\n",
       "  </thead>\n",
       "  <tbody>\n",
       "    <tr>\n",
       "      <th>0</th>\n",
       "      <td>book</td>\n",
       "      <td>[Books]</td>\n",
       "      <td>100 Days to Brave: Devotions for Unlocking Your Most Courageous Self</td>\n",
       "      <td>nan</td>\n",
       "      <td>4.7</td>\n",
       "      <td>0</td>\n",
       "      <td>9.01</td>\n",
       "      <td>031008962X</td>\n",
       "      <td>0.532175</td>\n",
       "      <td>0</td>\n",
       "    </tr>\n",
       "    <tr>\n",
       "      <th>1</th>\n",
       "      <td>book</td>\n",
       "      <td>[Books]</td>\n",
       "      <td>Stables: Beautiful Paddocks, Horse Barns, and Tack Rooms</td>\n",
       "      <td>nan</td>\n",
       "      <td>4.7</td>\n",
       "      <td>100</td>\n",
       "      <td>53.10</td>\n",
       "      <td>0847833143</td>\n",
       "      <td>0.532175</td>\n",
       "      <td>1</td>\n",
       "    </tr>\n",
       "    <tr>\n",
       "      <th>2</th>\n",
       "      <td>book</td>\n",
       "      <td>[Books]</td>\n",
       "      <td>Spectrum Algebra 1 Workbook, Grades 6-8 Math Covering Algebra Equations, Fractions, Inequalities, Graphing, Rational Numbers, Classroom or Homeschool Curriculum</td>\n",
       "      <td>nan</td>\n",
       "      <td>4.6</td>\n",
       "      <td>0</td>\n",
       "      <td>7.86</td>\n",
       "      <td>1483816648</td>\n",
       "      <td>0.532175</td>\n",
       "      <td>2</td>\n",
       "    </tr>\n",
       "  </tbody>\n",
       "</table>\n",
       "</div>"
      ],
      "text/plain": [
       "   type category  \\\n",
       "0  book  [Books]   \n",
       "1  book  [Books]   \n",
       "2  book  [Books]   \n",
       "\n",
       "                                                                                                                                                              title  \\\n",
       "0                                                                                              100 Days to Brave: Devotions for Unlocking Your Most Courageous Self   \n",
       "1                                                                                                          Stables: Beautiful Paddocks, Horse Barns, and Tack Rooms   \n",
       "2  Spectrum Algebra 1 Workbook, Grades 6-8 Math Covering Algebra Equations, Fractions, Inequalities, Graphing, Rational Numbers, Classroom or Homeschool Curriculum   \n",
       "\n",
       "  description  review_rating  review_count  price          id  \\\n",
       "0         nan            4.7             0   9.01  031008962X   \n",
       "1         nan            4.7           100  53.10  0847833143   \n",
       "2         nan            4.6             0   7.86  1483816648   \n",
       "\n",
       "   similarity_score  rank  \n",
       "0          0.532175     0  \n",
       "1          0.532175     1  \n",
       "2          0.532175     2  "
      ]
     },
     "execution_count": 9,
     "metadata": {},
     "output_type": "execute_result"
    }
   ],
   "source": [
    "results.to_pandas()"
   ]
  },
  {
   "cell_type": "markdown",
   "metadata": {},
   "source": [
    "📚 More on how [Superlinked natural queries (NLQ) works](https://rebrand.ly/superlinked-nlq-notebook)."
   ]
  },
  {
   "cell_type": "markdown",
   "metadata": {},
   "source": [
    "## Query books using tabular semantic search & natural queries"
   ]
  },
  {
   "cell_type": "code",
   "execution_count": 10,
   "metadata": {},
   "outputs": [
    {
     "data": {
      "text/plain": [
       "{'title_weight': 0.0,\n",
       " 'description_weight': 0.0,\n",
       " 'review_rating_maximizer_weight': 0.0,\n",
       " 'price_minimizer_weights': 1.0,\n",
       " 'limit': 3,\n",
       " 'natural_query': 'books with a price lower than 100',\n",
       " 'filter_by_type': 'book',\n",
       " 'query_description': 'books',\n",
       " 'query_title': 'books',\n",
       " 'filter_by_cateogry': None,\n",
       " 'radius_param': None,\n",
       " 'description_similar_clause_weight': 1.0,\n",
       " 'title_similar_clause_weight': 1.0}"
      ]
     },
     "execution_count": 10,
     "metadata": {},
     "output_type": "execute_result"
    }
   ],
   "source": [
    "results = app.query(\n",
    "    query.semantic_query,\n",
    "    natural_query=\"books with a price lower than 100\",\n",
    "    limit=3,\n",
    ")\n",
    "results.knn_params"
   ]
  },
  {
   "cell_type": "code",
   "execution_count": 11,
   "metadata": {},
   "outputs": [
    {
     "data": {
      "text/html": [
       "<div>\n",
       "<style scoped>\n",
       "    .dataframe tbody tr th:only-of-type {\n",
       "        vertical-align: middle;\n",
       "    }\n",
       "\n",
       "    .dataframe tbody tr th {\n",
       "        vertical-align: top;\n",
       "    }\n",
       "\n",
       "    .dataframe thead th {\n",
       "        text-align: right;\n",
       "    }\n",
       "</style>\n",
       "<table border=\"1\" class=\"dataframe\">\n",
       "  <thead>\n",
       "    <tr style=\"text-align: right;\">\n",
       "      <th></th>\n",
       "      <th>type</th>\n",
       "      <th>category</th>\n",
       "      <th>title</th>\n",
       "      <th>description</th>\n",
       "      <th>review_rating</th>\n",
       "      <th>review_count</th>\n",
       "      <th>price</th>\n",
       "      <th>id</th>\n",
       "      <th>similarity_score</th>\n",
       "      <th>rank</th>\n",
       "    </tr>\n",
       "  </thead>\n",
       "  <tbody>\n",
       "    <tr>\n",
       "      <th>0</th>\n",
       "      <td>book</td>\n",
       "      <td>[Books, Children's Books]</td>\n",
       "      <td>Journey to Star Wars: The Rise of Skywalker A Finn &amp; Poe Adventure (A Choose Your Destiny Chapter Book)</td>\n",
       "      <td>nan</td>\n",
       "      <td>4.7</td>\n",
       "      <td>174</td>\n",
       "      <td>5.99</td>\n",
       "      <td>1368043380</td>\n",
       "      <td>0.999956</td>\n",
       "      <td>0</td>\n",
       "    </tr>\n",
       "    <tr>\n",
       "      <th>1</th>\n",
       "      <td>book</td>\n",
       "      <td>[Books]</td>\n",
       "      <td>Spectrum Algebra 1 Workbook, Grades 6-8 Math Covering Algebra Equations, Fractions, Inequalities, Graphing, Rational Numbers, Classroom or Homeschool Curriculum</td>\n",
       "      <td>nan</td>\n",
       "      <td>4.6</td>\n",
       "      <td>0</td>\n",
       "      <td>7.86</td>\n",
       "      <td>1483816648</td>\n",
       "      <td>0.999924</td>\n",
       "      <td>1</td>\n",
       "    </tr>\n",
       "    <tr>\n",
       "      <th>2</th>\n",
       "      <td>book</td>\n",
       "      <td>[Books]</td>\n",
       "      <td>100 Days to Brave: Devotions for Unlocking Your Most Courageous Self</td>\n",
       "      <td>nan</td>\n",
       "      <td>4.7</td>\n",
       "      <td>0</td>\n",
       "      <td>9.01</td>\n",
       "      <td>031008962X</td>\n",
       "      <td>0.999900</td>\n",
       "      <td>2</td>\n",
       "    </tr>\n",
       "  </tbody>\n",
       "</table>\n",
       "</div>"
      ],
      "text/plain": [
       "   type                   category  \\\n",
       "0  book  [Books, Children's Books]   \n",
       "1  book                    [Books]   \n",
       "2  book                    [Books]   \n",
       "\n",
       "                                                                                                                                                              title  \\\n",
       "0                                                           Journey to Star Wars: The Rise of Skywalker A Finn & Poe Adventure (A Choose Your Destiny Chapter Book)   \n",
       "1  Spectrum Algebra 1 Workbook, Grades 6-8 Math Covering Algebra Equations, Fractions, Inequalities, Graphing, Rational Numbers, Classroom or Homeschool Curriculum   \n",
       "2                                                                                              100 Days to Brave: Devotions for Unlocking Your Most Courageous Self   \n",
       "\n",
       "  description  review_rating  review_count  price          id  \\\n",
       "0         nan            4.7           174   5.99  1368043380   \n",
       "1         nan            4.6             0   7.86  1483816648   \n",
       "2         nan            4.7             0   9.01  031008962X   \n",
       "\n",
       "   similarity_score  rank  \n",
       "0          0.999956     0  \n",
       "1          0.999924     1  \n",
       "2          0.999900     2  "
      ]
     },
     "execution_count": 11,
     "metadata": {},
     "output_type": "execute_result"
    }
   ],
   "source": [
    "results.to_pandas()"
   ]
  },
  {
   "cell_type": "code",
   "execution_count": 12,
   "metadata": {},
   "outputs": [
    {
     "data": {
      "text/plain": [
       "{'title_weight': 0.5,\n",
       " 'description_weight': 0.5,\n",
       " 'review_rating_maximizer_weight': 1.0,\n",
       " 'price_minimizer_weights': 1.0,\n",
       " 'limit': 3,\n",
       " 'natural_query': 'books with a price lower than 100 and a rating bigger than 4',\n",
       " 'filter_by_type': 'book',\n",
       " 'query_description': 'books with a price lower than 100 and a rating bigger than 4',\n",
       " 'query_title': 'books with a price lower than 100 and a rating bigger than 4',\n",
       " 'filter_by_cateogry': None,\n",
       " 'radius_param': None,\n",
       " 'description_similar_clause_weight': 0.5,\n",
       " 'title_similar_clause_weight': 0.5}"
      ]
     },
     "execution_count": 12,
     "metadata": {},
     "output_type": "execute_result"
    }
   ],
   "source": [
    "results = app.query(\n",
    "    query.semantic_query,\n",
    "    natural_query=\"books with a price lower than 100 and a rating bigger than 4\",\n",
    "    limit=3,\n",
    ")\n",
    "results.knn_params"
   ]
  },
  {
   "cell_type": "code",
   "execution_count": 13,
   "metadata": {},
   "outputs": [
    {
     "data": {
      "text/html": [
       "<div>\n",
       "<style scoped>\n",
       "    .dataframe tbody tr th:only-of-type {\n",
       "        vertical-align: middle;\n",
       "    }\n",
       "\n",
       "    .dataframe tbody tr th {\n",
       "        vertical-align: top;\n",
       "    }\n",
       "\n",
       "    .dataframe thead th {\n",
       "        text-align: right;\n",
       "    }\n",
       "</style>\n",
       "<table border=\"1\" class=\"dataframe\">\n",
       "  <thead>\n",
       "    <tr style=\"text-align: right;\">\n",
       "      <th></th>\n",
       "      <th>type</th>\n",
       "      <th>category</th>\n",
       "      <th>title</th>\n",
       "      <th>description</th>\n",
       "      <th>review_rating</th>\n",
       "      <th>review_count</th>\n",
       "      <th>price</th>\n",
       "      <th>id</th>\n",
       "      <th>similarity_score</th>\n",
       "      <th>rank</th>\n",
       "    </tr>\n",
       "  </thead>\n",
       "  <tbody>\n",
       "    <tr>\n",
       "      <th>0</th>\n",
       "      <td>book</td>\n",
       "      <td>[Books]</td>\n",
       "      <td>The Norton Introduction to Literature</td>\n",
       "      <td>nan</td>\n",
       "      <td>4.5</td>\n",
       "      <td>662</td>\n",
       "      <td>76.50</td>\n",
       "      <td>039393893X</td>\n",
       "      <td>0.795153</td>\n",
       "      <td>0</td>\n",
       "    </tr>\n",
       "    <tr>\n",
       "      <th>1</th>\n",
       "      <td>book</td>\n",
       "      <td>[Books]</td>\n",
       "      <td>The Serengeti Rules: The Quest to Discover How Life Works and Why It Matters - With a new Q&amp;A with the author</td>\n",
       "      <td>nan</td>\n",
       "      <td>4.6</td>\n",
       "      <td>333</td>\n",
       "      <td>16.95</td>\n",
       "      <td>0691175683</td>\n",
       "      <td>0.791076</td>\n",
       "      <td>1</td>\n",
       "    </tr>\n",
       "    <tr>\n",
       "      <th>2</th>\n",
       "      <td>book</td>\n",
       "      <td>[Books]</td>\n",
       "      <td>All Aboard! New York: A City Primer</td>\n",
       "      <td>nan</td>\n",
       "      <td>4.6</td>\n",
       "      <td>74</td>\n",
       "      <td>9.99</td>\n",
       "      <td>1423640748</td>\n",
       "      <td>0.790805</td>\n",
       "      <td>2</td>\n",
       "    </tr>\n",
       "  </tbody>\n",
       "</table>\n",
       "</div>"
      ],
      "text/plain": [
       "   type category  \\\n",
       "0  book  [Books]   \n",
       "1  book  [Books]   \n",
       "2  book  [Books]   \n",
       "\n",
       "                                                                                                           title  \\\n",
       "0                                                                          The Norton Introduction to Literature   \n",
       "1  The Serengeti Rules: The Quest to Discover How Life Works and Why It Matters - With a new Q&A with the author   \n",
       "2                                                                            All Aboard! New York: A City Primer   \n",
       "\n",
       "  description  review_rating  review_count  price          id  \\\n",
       "0         nan            4.5           662  76.50  039393893X   \n",
       "1         nan            4.6           333  16.95  0691175683   \n",
       "2         nan            4.6            74   9.99  1423640748   \n",
       "\n",
       "   similarity_score  rank  \n",
       "0          0.795153     0  \n",
       "1          0.791076     1  \n",
       "2          0.790805     2  "
      ]
     },
     "execution_count": 13,
     "metadata": {},
     "output_type": "execute_result"
    }
   ],
   "source": [
    "results.to_pandas()"
   ]
  },
  {
   "cell_type": "code",
   "execution_count": 14,
   "metadata": {},
   "outputs": [
    {
     "data": {
      "text/plain": [
       "{'title_weight': 0.0,\n",
       " 'description_weight': 0.0,\n",
       " 'review_rating_maximizer_weight': 1.0,\n",
       " 'price_minimizer_weights': 0.5,\n",
       " 'limit': 3,\n",
       " 'natural_query': 'Return the top 5 books (along with their review count and price) with the highest reviews rating.',\n",
       " 'filter_by_type': 'book',\n",
       " 'query_description': 'highest reviews rating',\n",
       " 'query_title': 'books',\n",
       " 'filter_by_cateogry': None,\n",
       " 'radius_param': None,\n",
       " 'description_similar_clause_weight': 1.0,\n",
       " 'title_similar_clause_weight': 1.0}"
      ]
     },
     "execution_count": 14,
     "metadata": {},
     "output_type": "execute_result"
    }
   ],
   "source": [
    "results = app.query(\n",
    "    query.semantic_query,\n",
    "    natural_query=\"Return the top 5 books (along with their review count and price) with the highest reviews rating.\",\n",
    "    limit=3,\n",
    ")\n",
    "results.knn_params"
   ]
  },
  {
   "cell_type": "code",
   "execution_count": 15,
   "metadata": {},
   "outputs": [
    {
     "data": {
      "text/html": [
       "<div>\n",
       "<style scoped>\n",
       "    .dataframe tbody tr th:only-of-type {\n",
       "        vertical-align: middle;\n",
       "    }\n",
       "\n",
       "    .dataframe tbody tr th {\n",
       "        vertical-align: top;\n",
       "    }\n",
       "\n",
       "    .dataframe thead th {\n",
       "        text-align: right;\n",
       "    }\n",
       "</style>\n",
       "<table border=\"1\" class=\"dataframe\">\n",
       "  <thead>\n",
       "    <tr style=\"text-align: right;\">\n",
       "      <th></th>\n",
       "      <th>type</th>\n",
       "      <th>category</th>\n",
       "      <th>title</th>\n",
       "      <th>description</th>\n",
       "      <th>review_rating</th>\n",
       "      <th>review_count</th>\n",
       "      <th>price</th>\n",
       "      <th>id</th>\n",
       "      <th>similarity_score</th>\n",
       "      <th>rank</th>\n",
       "    </tr>\n",
       "  </thead>\n",
       "  <tbody>\n",
       "    <tr>\n",
       "      <th>0</th>\n",
       "      <td>book</td>\n",
       "      <td>[Books]</td>\n",
       "      <td>Choose: An Invitation to the Best Day Ever Adventure</td>\n",
       "      <td>nan</td>\n",
       "      <td>5.0</td>\n",
       "      <td>62</td>\n",
       "      <td>15.00</td>\n",
       "      <td>1547110600</td>\n",
       "      <td>0.948596</td>\n",
       "      <td>0</td>\n",
       "    </tr>\n",
       "    <tr>\n",
       "      <th>1</th>\n",
       "      <td>book</td>\n",
       "      <td>[Books]</td>\n",
       "      <td>33 Days to Morning Glory: A Do-It-Yourself Retreat In Preparation for Marian Consecration</td>\n",
       "      <td>nan</td>\n",
       "      <td>4.9</td>\n",
       "      <td>0</td>\n",
       "      <td>13.49</td>\n",
       "      <td>1596142448</td>\n",
       "      <td>0.948396</td>\n",
       "      <td>1</td>\n",
       "    </tr>\n",
       "    <tr>\n",
       "      <th>2</th>\n",
       "      <td>book</td>\n",
       "      <td>[Books]</td>\n",
       "      <td>Mom Set Free - Bible Study Book: Good News for Moms Who are Tired of Trying to be Good Enough</td>\n",
       "      <td>nan</td>\n",
       "      <td>4.8</td>\n",
       "      <td>781</td>\n",
       "      <td>15.99</td>\n",
       "      <td>1430039612</td>\n",
       "      <td>0.947717</td>\n",
       "      <td>2</td>\n",
       "    </tr>\n",
       "  </tbody>\n",
       "</table>\n",
       "</div>"
      ],
      "text/plain": [
       "   type category  \\\n",
       "0  book  [Books]   \n",
       "1  book  [Books]   \n",
       "2  book  [Books]   \n",
       "\n",
       "                                                                                           title  \\\n",
       "0                                           Choose: An Invitation to the Best Day Ever Adventure   \n",
       "1      33 Days to Morning Glory: A Do-It-Yourself Retreat In Preparation for Marian Consecration   \n",
       "2  Mom Set Free - Bible Study Book: Good News for Moms Who are Tired of Trying to be Good Enough   \n",
       "\n",
       "  description  review_rating  review_count  price          id  \\\n",
       "0         nan            5.0            62  15.00  1547110600   \n",
       "1         nan            4.9             0  13.49  1596142448   \n",
       "2         nan            4.8           781  15.99  1430039612   \n",
       "\n",
       "   similarity_score  rank  \n",
       "0          0.948596     0  \n",
       "1          0.948396     1  \n",
       "2          0.947717     2  "
      ]
     },
     "execution_count": 15,
     "metadata": {},
     "output_type": "execute_result"
    }
   ],
   "source": [
    "results.to_pandas()"
   ]
  },
  {
   "cell_type": "code",
   "execution_count": 21,
   "metadata": {},
   "outputs": [
    {
     "data": {
      "text/plain": [
       "{'title_weight': 1.0,\n",
       " 'description_weight': 1.0,\n",
       " 'review_rating_maximizer_weight': 1.0,\n",
       " 'price_minimizer_weights': 0.0,\n",
       " 'limit': 3,\n",
       " 'natural_query': 'psychology and mindfulness with a rating bigger than 4',\n",
       " 'filter_by_type': None,\n",
       " 'query_description': 'psychology and mindfulness',\n",
       " 'query_title': 'psychology and mindfulness',\n",
       " 'filter_by_cateogry': None,\n",
       " 'radius_param': None,\n",
       " 'description_similar_clause_weight': 1.0,\n",
       " 'title_similar_clause_weight': 1.0}"
      ]
     },
     "execution_count": 21,
     "metadata": {},
     "output_type": "execute_result"
    }
   ],
   "source": [
    "results = app.query(\n",
    "    query.semantic_query,\n",
    "    natural_query=\"psychology and mindfulness with a rating bigger than 4\",\n",
    "    limit=3,\n",
    ")\n",
    "results.knn_params"
   ]
  },
  {
   "cell_type": "code",
   "execution_count": 22,
   "metadata": {},
   "outputs": [
    {
     "data": {
      "text/html": [
       "<div>\n",
       "<style scoped>\n",
       "    .dataframe tbody tr th:only-of-type {\n",
       "        vertical-align: middle;\n",
       "    }\n",
       "\n",
       "    .dataframe tbody tr th {\n",
       "        vertical-align: top;\n",
       "    }\n",
       "\n",
       "    .dataframe thead th {\n",
       "        text-align: right;\n",
       "    }\n",
       "</style>\n",
       "<table border=\"1\" class=\"dataframe\">\n",
       "  <thead>\n",
       "    <tr style=\"text-align: right;\">\n",
       "      <th></th>\n",
       "      <th>type</th>\n",
       "      <th>category</th>\n",
       "      <th>title</th>\n",
       "      <th>description</th>\n",
       "      <th>review_rating</th>\n",
       "      <th>review_count</th>\n",
       "      <th>price</th>\n",
       "      <th>id</th>\n",
       "      <th>similarity_score</th>\n",
       "      <th>rank</th>\n",
       "    </tr>\n",
       "  </thead>\n",
       "  <tbody>\n",
       "    <tr>\n",
       "      <th>0</th>\n",
       "      <td>book</td>\n",
       "      <td>[Books]</td>\n",
       "      <td>The Mindful Dragon: A Dragon Book about Mindfulness. Teach Your Dragon To Be Mindful. A Cute Children Story to Teach Kids about Mindfulness, Focus and Peace. (My Dragon Books)</td>\n",
       "      <td>nan</td>\n",
       "      <td>4.7</td>\n",
       "      <td>623</td>\n",
       "      <td>11.69</td>\n",
       "      <td>1948040107</td>\n",
       "      <td>0.693309</td>\n",
       "      <td>0</td>\n",
       "    </tr>\n",
       "    <tr>\n",
       "      <th>1</th>\n",
       "      <td>product</td>\n",
       "      <td>[]</td>\n",
       "      <td>KOOSHOO Headband - Doubles as a Dust Mask - Durable, Eco-Friendly Accessory - Versatile Design to Wear Your Way - Perfect for Yoga, Travel, Sports &amp; Everyday</td>\n",
       "      <td></td>\n",
       "      <td>4.5</td>\n",
       "      <td>323</td>\n",
       "      <td>25.00</td>\n",
       "      <td>B017R8L9RU</td>\n",
       "      <td>0.676599</td>\n",
       "      <td>1</td>\n",
       "    </tr>\n",
       "    <tr>\n",
       "      <th>2</th>\n",
       "      <td>product</td>\n",
       "      <td>[Clothing, Shoes &amp; Jewelry]</td>\n",
       "      <td>SUITEDNOMAD Compression Packing Cubes Set,Ultralight Travel Organizer Bags</td>\n",
       "      <td></td>\n",
       "      <td>4.7</td>\n",
       "      <td>0</td>\n",
       "      <td>39.95</td>\n",
       "      <td>B07WN8L87S</td>\n",
       "      <td>0.670774</td>\n",
       "      <td>2</td>\n",
       "    </tr>\n",
       "  </tbody>\n",
       "</table>\n",
       "</div>"
      ],
      "text/plain": [
       "      type                     category  \\\n",
       "0     book                      [Books]   \n",
       "1  product                           []   \n",
       "2  product  [Clothing, Shoes & Jewelry]   \n",
       "\n",
       "                                                                                                                                                                             title  \\\n",
       "0  The Mindful Dragon: A Dragon Book about Mindfulness. Teach Your Dragon To Be Mindful. A Cute Children Story to Teach Kids about Mindfulness, Focus and Peace. (My Dragon Books)   \n",
       "1                    KOOSHOO Headband - Doubles as a Dust Mask - Durable, Eco-Friendly Accessory - Versatile Design to Wear Your Way - Perfect for Yoga, Travel, Sports & Everyday   \n",
       "2                                                                                                       SUITEDNOMAD Compression Packing Cubes Set,Ultralight Travel Organizer Bags   \n",
       "\n",
       "  description  review_rating  review_count  price          id  \\\n",
       "0         nan            4.7           623  11.69  1948040107   \n",
       "1                        4.5           323  25.00  B017R8L9RU   \n",
       "2                        4.7             0  39.95  B07WN8L87S   \n",
       "\n",
       "   similarity_score  rank  \n",
       "0          0.693309     0  \n",
       "1          0.676599     1  \n",
       "2          0.670774     2  "
      ]
     },
     "execution_count": 22,
     "metadata": {},
     "output_type": "execute_result"
    }
   ],
   "source": [
    "results.to_pandas()"
   ]
  },
  {
   "cell_type": "markdown",
   "metadata": {},
   "source": [
    "📚 More on how [Superlinked natural queries (NLQ) works](https://rebrand.ly/superlinked-nlq-notebook)."
   ]
  },
  {
   "cell_type": "markdown",
   "metadata": {},
   "source": [
    "## Find similar books based on a given product"
   ]
  },
  {
   "cell_type": "code",
   "execution_count": 23,
   "metadata": {},
   "outputs": [
    {
     "data": {
      "text/html": [
       "<div>\n",
       "<style scoped>\n",
       "    .dataframe tbody tr th:only-of-type {\n",
       "        vertical-align: middle;\n",
       "    }\n",
       "\n",
       "    .dataframe tbody tr th {\n",
       "        vertical-align: top;\n",
       "    }\n",
       "\n",
       "    .dataframe thead th {\n",
       "        text-align: right;\n",
       "    }\n",
       "</style>\n",
       "<table border=\"1\" class=\"dataframe\">\n",
       "  <thead>\n",
       "    <tr style=\"text-align: right;\">\n",
       "      <th></th>\n",
       "      <th>asin</th>\n",
       "      <th>type</th>\n",
       "      <th>category</th>\n",
       "      <th>title</th>\n",
       "      <th>description</th>\n",
       "      <th>price</th>\n",
       "      <th>review_rating</th>\n",
       "      <th>review_count</th>\n",
       "    </tr>\n",
       "  </thead>\n",
       "  <tbody>\n",
       "    <tr>\n",
       "      <th>0</th>\n",
       "      <td>B07WP4RXHY</td>\n",
       "      <td>product</td>\n",
       "      <td>[Tools &amp; Home Improvement]</td>\n",
       "      <td>YUEPIN U-Tube Clamp 304 Stainless Steel Hose Pipe Cable Strap Clips With Rubber Cushioned (1-21/32\"(42mm)-10pcs)</td>\n",
       "      <td>Product Description Specification: Material: 304 Stainless Steel,100% New Rubber Color: Silver Shape: U Shape Quantity: 10 Pieces Note: Note: Since the size above is measured by hand, the size of the actual item you received could be slightly different from the size above. Product Description Specification: Material: 304 Stainless Steel,100% New Rubber Color: Silver Shape: U Shape Quantity: 10 Pieces Note: Note: Since the size above is measured by hand, the size of the actual item you receiv...</td>\n",
       "      <td>9.99</td>\n",
       "      <td>4.7</td>\n",
       "      <td>54</td>\n",
       "    </tr>\n",
       "  </tbody>\n",
       "</table>\n",
       "</div>"
      ],
      "text/plain": [
       "         asin     type                    category  \\\n",
       "0  B07WP4RXHY  product  [Tools & Home Improvement]   \n",
       "\n",
       "                                                                                                              title  \\\n",
       "0  YUEPIN U-Tube Clamp 304 Stainless Steel Hose Pipe Cable Strap Clips With Rubber Cushioned (1-21/32\"(42mm)-10pcs)   \n",
       "\n",
       "                                                                                                                                                                                                                                                                                                                                                                                                                                                                                                           description  \\\n",
       "0  Product Description Specification: Material: 304 Stainless Steel,100% New Rubber Color: Silver Shape: U Shape Quantity: 10 Pieces Note: Note: Since the size above is measured by hand, the size of the actual item you received could be slightly different from the size above. Product Description Specification: Material: 304 Stainless Steel,100% New Rubber Color: Silver Shape: U Shape Quantity: 10 Pieces Note: Note: Since the size above is measured by hand, the size of the actual item you receiv...   \n",
       "\n",
       "   price  review_rating  review_count  \n",
       "0   9.99            4.7            54  "
      ]
     },
     "execution_count": 23,
     "metadata": {},
     "output_type": "execute_result"
    }
   ],
   "source": [
    "df[df[\"asin\"] == \"B07WP4RXHY\"]"
   ]
  },
  {
   "cell_type": "code",
   "execution_count": 24,
   "metadata": {},
   "outputs": [
    {
     "data": {
      "text/plain": [
       "{'title_weight': 1.0,\n",
       " 'description_weight': 1.0,\n",
       " 'review_rating_maximizer_weight': 1.0,\n",
       " 'price_minimizer_weights': 1.0,\n",
       " 'limit': 3,\n",
       " 'natural_query': 'similar books to B07WP4RXHY with a price lower than 100 and a rating bigger than 4',\n",
       " 'filter_by_type': None,\n",
       " 'query_description': 'similar books',\n",
       " 'query_title': 'similar books',\n",
       " 'filter_by_cateogry': None,\n",
       " 'product_id': 'B07WP4RXHY',\n",
       " 'radius_param': None,\n",
       " 'description_similar_clause_weight': 1.0,\n",
       " 'title_similar_clause_weight': 1.0,\n",
       " 'with_vector_id_weight_param': 1.0}"
      ]
     },
     "execution_count": 24,
     "metadata": {},
     "output_type": "execute_result"
    }
   ],
   "source": [
    "results = app.query(\n",
    "    query.similar_items_query,\n",
    "    natural_query=\"similar books to B07WP4RXHY with a price lower than 100 and a rating bigger than 4\",\n",
    "    limit=3,\n",
    ")\n",
    "results.knn_params"
   ]
  },
  {
   "cell_type": "code",
   "execution_count": 25,
   "metadata": {},
   "outputs": [
    {
     "data": {
      "text/html": [
       "<div>\n",
       "<style scoped>\n",
       "    .dataframe tbody tr th:only-of-type {\n",
       "        vertical-align: middle;\n",
       "    }\n",
       "\n",
       "    .dataframe tbody tr th {\n",
       "        vertical-align: top;\n",
       "    }\n",
       "\n",
       "    .dataframe thead th {\n",
       "        text-align: right;\n",
       "    }\n",
       "</style>\n",
       "<table border=\"1\" class=\"dataframe\">\n",
       "  <thead>\n",
       "    <tr style=\"text-align: right;\">\n",
       "      <th></th>\n",
       "      <th>type</th>\n",
       "      <th>category</th>\n",
       "      <th>title</th>\n",
       "      <th>description</th>\n",
       "      <th>review_rating</th>\n",
       "      <th>review_count</th>\n",
       "      <th>price</th>\n",
       "      <th>id</th>\n",
       "      <th>similarity_score</th>\n",
       "      <th>rank</th>\n",
       "    </tr>\n",
       "  </thead>\n",
       "  <tbody>\n",
       "    <tr>\n",
       "      <th>0</th>\n",
       "      <td>product</td>\n",
       "      <td>[Tools &amp; Home Improvement]</td>\n",
       "      <td>YUEPIN U-Tube Clamp 304 Stainless Steel Hose Pipe Cable Strap Clips With Rubber Cushioned (1-21/32\"(42mm)-10pcs)</td>\n",
       "      <td>Product Description Specification: Material: 304 Stainless Steel,100% New Rubber Color: Silver Shape: U Shape Quantity: 10 Pieces Note: Note: Since the size above is measured by hand, the size of the actual item you received could be slightly different from the size above. Product Description Specification: Material: 304 Stainless Steel,100% New Rubber Color: Silver Shape: U Shape Quantity: 10 Pieces Note: Note: Since the size above is measured by hand, the size of the actual item you receiv...</td>\n",
       "      <td>4.7</td>\n",
       "      <td>54</td>\n",
       "      <td>9.99</td>\n",
       "      <td>B07WP4RXHY</td>\n",
       "      <td>0.916242</td>\n",
       "      <td>0</td>\n",
       "    </tr>\n",
       "    <tr>\n",
       "      <th>1</th>\n",
       "      <td>product</td>\n",
       "      <td>[Electronics]</td>\n",
       "      <td>Rankie RJ45 Cat6 Snagless Ethernet Patch Cable, 5-Pack, 3 Feet, Black</td>\n",
       "      <td></td>\n",
       "      <td>4.7</td>\n",
       "      <td>0</td>\n",
       "      <td>12.99</td>\n",
       "      <td>B01J8MHYO0</td>\n",
       "      <td>0.851214</td>\n",
       "      <td>1</td>\n",
       "    </tr>\n",
       "    <tr>\n",
       "      <th>2</th>\n",
       "      <td>product</td>\n",
       "      <td>[Clothing, Shoes &amp; Jewelry]</td>\n",
       "      <td>SUITEDNOMAD Compression Packing Cubes Set,Ultralight Travel Organizer Bags</td>\n",
       "      <td></td>\n",
       "      <td>4.7</td>\n",
       "      <td>0</td>\n",
       "      <td>39.95</td>\n",
       "      <td>B07WN8L87S</td>\n",
       "      <td>0.837194</td>\n",
       "      <td>2</td>\n",
       "    </tr>\n",
       "  </tbody>\n",
       "</table>\n",
       "</div>"
      ],
      "text/plain": [
       "      type                     category  \\\n",
       "0  product   [Tools & Home Improvement]   \n",
       "1  product                [Electronics]   \n",
       "2  product  [Clothing, Shoes & Jewelry]   \n",
       "\n",
       "                                                                                                              title  \\\n",
       "0  YUEPIN U-Tube Clamp 304 Stainless Steel Hose Pipe Cable Strap Clips With Rubber Cushioned (1-21/32\"(42mm)-10pcs)   \n",
       "1                                             Rankie RJ45 Cat6 Snagless Ethernet Patch Cable, 5-Pack, 3 Feet, Black   \n",
       "2                                        SUITEDNOMAD Compression Packing Cubes Set,Ultralight Travel Organizer Bags   \n",
       "\n",
       "                                                                                                                                                                                                                                                                                                                                                                                                                                                                                                           description  \\\n",
       "0  Product Description Specification: Material: 304 Stainless Steel,100% New Rubber Color: Silver Shape: U Shape Quantity: 10 Pieces Note: Note: Since the size above is measured by hand, the size of the actual item you received could be slightly different from the size above. Product Description Specification: Material: 304 Stainless Steel,100% New Rubber Color: Silver Shape: U Shape Quantity: 10 Pieces Note: Note: Since the size above is measured by hand, the size of the actual item you receiv...   \n",
       "1                                                                                                                                                                                                                                                                                                                                                                                                                                                                                                                        \n",
       "2                                                                                                                                                                                                                                                                                                                                                                                                                                                                                                                        \n",
       "\n",
       "   review_rating  review_count  price          id  similarity_score  rank  \n",
       "0            4.7            54   9.99  B07WP4RXHY          0.916242     0  \n",
       "1            4.7             0  12.99  B01J8MHYO0          0.851214     1  \n",
       "2            4.7             0  39.95  B07WN8L87S          0.837194     2  "
      ]
     },
     "execution_count": 25,
     "metadata": {},
     "output_type": "execute_result"
    }
   ],
   "source": [
    "results.to_pandas()"
   ]
  },
  {
   "cell_type": "markdown",
   "metadata": {},
   "source": [
    "## Queries back-to-back with text-to-SQL\n",
    "\n",
    "This section will run a series of queries to compare them with text-to-SQL.\n",
    "\n",
    "In the next notebook, we will build a text-to-SQL module with LlamaIndex that will follow the same queries to compare them back-to-back."
   ]
  },
  {
   "cell_type": "markdown",
   "metadata": {},
   "source": [
    "### Examples 1: Simple\n",
    "\n",
    "Let's start with a simple query:"
   ]
  },
  {
   "cell_type": "code",
   "execution_count": 26,
   "metadata": {},
   "outputs": [
    {
     "data": {
      "text/plain": [
       "{'title_weight': 0.5,\n",
       " 'description_weight': 0.5,\n",
       " 'review_rating_maximizer_weight': 1.0,\n",
       " 'price_minimizer_weights': 1.0,\n",
       " 'limit': 3,\n",
       " 'natural_query': 'books with a price lower than 100 and a rating bigger than 4',\n",
       " 'filter_by_type': 'book',\n",
       " 'query_description': 'books with a price lower than 100 and a rating bigger than 4',\n",
       " 'query_title': 'books with a price lower than 100 and a rating bigger than 4',\n",
       " 'filter_by_cateogry': None,\n",
       " 'radius_param': None,\n",
       " 'description_similar_clause_weight': 0.5,\n",
       " 'title_similar_clause_weight': 0.5}"
      ]
     },
     "execution_count": 26,
     "metadata": {},
     "output_type": "execute_result"
    }
   ],
   "source": [
    "results = app.query(\n",
    "    query.semantic_query,\n",
    "    natural_query=\"books with a price lower than 100 and a rating bigger than 4\",\n",
    "    limit=3,\n",
    ")\n",
    "results.knn_params"
   ]
  },
  {
   "cell_type": "code",
   "execution_count": 27,
   "metadata": {},
   "outputs": [
    {
     "data": {
      "text/html": [
       "<div>\n",
       "<style scoped>\n",
       "    .dataframe tbody tr th:only-of-type {\n",
       "        vertical-align: middle;\n",
       "    }\n",
       "\n",
       "    .dataframe tbody tr th {\n",
       "        vertical-align: top;\n",
       "    }\n",
       "\n",
       "    .dataframe thead th {\n",
       "        text-align: right;\n",
       "    }\n",
       "</style>\n",
       "<table border=\"1\" class=\"dataframe\">\n",
       "  <thead>\n",
       "    <tr style=\"text-align: right;\">\n",
       "      <th></th>\n",
       "      <th>type</th>\n",
       "      <th>title</th>\n",
       "      <th>price</th>\n",
       "      <th>review_rating</th>\n",
       "    </tr>\n",
       "  </thead>\n",
       "  <tbody>\n",
       "    <tr>\n",
       "      <th>0</th>\n",
       "      <td>book</td>\n",
       "      <td>The Norton Introduction to Literature</td>\n",
       "      <td>76.50</td>\n",
       "      <td>4.5</td>\n",
       "    </tr>\n",
       "    <tr>\n",
       "      <th>1</th>\n",
       "      <td>book</td>\n",
       "      <td>The Serengeti Rules: The Quest to Discover How Life Works and Why It Matters - With a new Q&amp;A with the author</td>\n",
       "      <td>16.95</td>\n",
       "      <td>4.6</td>\n",
       "    </tr>\n",
       "    <tr>\n",
       "      <th>2</th>\n",
       "      <td>book</td>\n",
       "      <td>All Aboard! New York: A City Primer</td>\n",
       "      <td>9.99</td>\n",
       "      <td>4.6</td>\n",
       "    </tr>\n",
       "  </tbody>\n",
       "</table>\n",
       "</div>"
      ],
      "text/plain": [
       "   type  \\\n",
       "0  book   \n",
       "1  book   \n",
       "2  book   \n",
       "\n",
       "                                                                                                           title  \\\n",
       "0                                                                          The Norton Introduction to Literature   \n",
       "1  The Serengeti Rules: The Quest to Discover How Life Works and Why It Matters - With a new Q&A with the author   \n",
       "2                                                                            All Aboard! New York: A City Primer   \n",
       "\n",
       "   price  review_rating  \n",
       "0  76.50            4.5  \n",
       "1  16.95            4.6  \n",
       "2   9.99            4.6  "
      ]
     },
     "execution_count": 27,
     "metadata": {},
     "output_type": "execute_result"
    }
   ],
   "source": [
    "results.to_pandas()[[\"type\", \"title\", \"price\", \"review_rating\"]]"
   ]
  },
  {
   "cell_type": "markdown",
   "metadata": {},
   "source": [
    "### Examples 2: Specific categories \n",
    "\n",
    "Now, we will complicate the query:"
   ]
  },
  {
   "cell_type": "code",
   "execution_count": 28,
   "metadata": {},
   "outputs": [
    {
     "data": {
      "text/plain": [
       "{'title_weight': 1.0,\n",
       " 'description_weight': 1.0,\n",
       " 'review_rating_maximizer_weight': 1.0,\n",
       " 'price_minimizer_weights': 0.0,\n",
       " 'limit': 3,\n",
       " 'natural_query': 'psychology and mindfulness with a rating bigger than 4',\n",
       " 'filter_by_type': None,\n",
       " 'query_description': 'psychology and mindfulness',\n",
       " 'query_title': 'psychology and mindfulness',\n",
       " 'filter_by_cateogry': None,\n",
       " 'radius_param': None,\n",
       " 'description_similar_clause_weight': 1.0,\n",
       " 'title_similar_clause_weight': 1.0}"
      ]
     },
     "execution_count": 28,
     "metadata": {},
     "output_type": "execute_result"
    }
   ],
   "source": [
    "results = app.query(\n",
    "    query.semantic_query,\n",
    "    natural_query=\"psychology and mindfulness with a rating bigger than 4\",\n",
    "    limit=3,\n",
    ")\n",
    "results.knn_params"
   ]
  },
  {
   "cell_type": "code",
   "execution_count": 29,
   "metadata": {},
   "outputs": [
    {
     "data": {
      "text/html": [
       "<div>\n",
       "<style scoped>\n",
       "    .dataframe tbody tr th:only-of-type {\n",
       "        vertical-align: middle;\n",
       "    }\n",
       "\n",
       "    .dataframe tbody tr th {\n",
       "        vertical-align: top;\n",
       "    }\n",
       "\n",
       "    .dataframe thead th {\n",
       "        text-align: right;\n",
       "    }\n",
       "</style>\n",
       "<table border=\"1\" class=\"dataframe\">\n",
       "  <thead>\n",
       "    <tr style=\"text-align: right;\">\n",
       "      <th></th>\n",
       "      <th>type</th>\n",
       "      <th>title</th>\n",
       "      <th>price</th>\n",
       "      <th>review_rating</th>\n",
       "    </tr>\n",
       "  </thead>\n",
       "  <tbody>\n",
       "    <tr>\n",
       "      <th>0</th>\n",
       "      <td>book</td>\n",
       "      <td>The Mindful Dragon: A Dragon Book about Mindfulness. Teach Your Dragon To Be Mindful. A Cute Children Story to Teach Kids about Mindfulness, Focus and Peace. (My Dragon Books)</td>\n",
       "      <td>11.69</td>\n",
       "      <td>4.7</td>\n",
       "    </tr>\n",
       "    <tr>\n",
       "      <th>1</th>\n",
       "      <td>product</td>\n",
       "      <td>KOOSHOO Headband - Doubles as a Dust Mask - Durable, Eco-Friendly Accessory - Versatile Design to Wear Your Way - Perfect for Yoga, Travel, Sports &amp; Everyday</td>\n",
       "      <td>25.00</td>\n",
       "      <td>4.5</td>\n",
       "    </tr>\n",
       "    <tr>\n",
       "      <th>2</th>\n",
       "      <td>product</td>\n",
       "      <td>SUITEDNOMAD Compression Packing Cubes Set,Ultralight Travel Organizer Bags</td>\n",
       "      <td>39.95</td>\n",
       "      <td>4.7</td>\n",
       "    </tr>\n",
       "  </tbody>\n",
       "</table>\n",
       "</div>"
      ],
      "text/plain": [
       "      type  \\\n",
       "0     book   \n",
       "1  product   \n",
       "2  product   \n",
       "\n",
       "                                                                                                                                                                             title  \\\n",
       "0  The Mindful Dragon: A Dragon Book about Mindfulness. Teach Your Dragon To Be Mindful. A Cute Children Story to Teach Kids about Mindfulness, Focus and Peace. (My Dragon Books)   \n",
       "1                    KOOSHOO Headband - Doubles as a Dust Mask - Durable, Eco-Friendly Accessory - Versatile Design to Wear Your Way - Perfect for Yoga, Travel, Sports & Everyday   \n",
       "2                                                                                                       SUITEDNOMAD Compression Packing Cubes Set,Ultralight Travel Organizer Bags   \n",
       "\n",
       "   price  review_rating  \n",
       "0  11.69            4.7  \n",
       "1  25.00            4.5  \n",
       "2  39.95            4.7  "
      ]
     },
     "execution_count": 29,
     "metadata": {},
     "output_type": "execute_result"
    }
   ],
   "source": [
    "results.to_pandas()[[\"type\", \"title\", \"price\", \"review_rating\"]]"
   ]
  },
  {
   "cell_type": "code",
   "execution_count": 30,
   "metadata": {},
   "outputs": [
    {
     "data": {
      "text/plain": [
       "{'title_weight': 0.5,\n",
       " 'description_weight': 0.5,\n",
       " 'review_rating_maximizer_weight': 1.0,\n",
       " 'price_minimizer_weights': 0.0,\n",
       " 'limit': 3,\n",
       " 'natural_query': 'Return the top items (along with their price) with the highest reviews rating on science',\n",
       " 'filter_by_type': None,\n",
       " 'query_description': 'science',\n",
       " 'query_title': 'science',\n",
       " 'filter_by_cateogry': None,\n",
       " 'radius_param': None,\n",
       " 'description_similar_clause_weight': 1.0,\n",
       " 'title_similar_clause_weight': 1.0}"
      ]
     },
     "execution_count": 30,
     "metadata": {},
     "output_type": "execute_result"
    }
   ],
   "source": [
    "results = app.query(\n",
    "    query.semantic_query,\n",
    "    natural_query=\"Return the top items (along with their price) with the highest reviews rating on science\",\n",
    "    limit=3\n",
    ")\n",
    "results.knn_params"
   ]
  },
  {
   "cell_type": "code",
   "execution_count": 31,
   "metadata": {},
   "outputs": [
    {
     "data": {
      "text/html": [
       "<div>\n",
       "<style scoped>\n",
       "    .dataframe tbody tr th:only-of-type {\n",
       "        vertical-align: middle;\n",
       "    }\n",
       "\n",
       "    .dataframe tbody tr th {\n",
       "        vertical-align: top;\n",
       "    }\n",
       "\n",
       "    .dataframe thead th {\n",
       "        text-align: right;\n",
       "    }\n",
       "</style>\n",
       "<table border=\"1\" class=\"dataframe\">\n",
       "  <thead>\n",
       "    <tr style=\"text-align: right;\">\n",
       "      <th></th>\n",
       "      <th>type</th>\n",
       "      <th>title</th>\n",
       "      <th>price</th>\n",
       "      <th>review_rating</th>\n",
       "    </tr>\n",
       "  </thead>\n",
       "  <tbody>\n",
       "    <tr>\n",
       "      <th>0</th>\n",
       "      <td>product</td>\n",
       "      <td>Rankie RJ45 Cat6 Snagless Ethernet Patch Cable, 5-Pack, 3 Feet, Black</td>\n",
       "      <td>12.99</td>\n",
       "      <td>4.7</td>\n",
       "    </tr>\n",
       "    <tr>\n",
       "      <th>1</th>\n",
       "      <td>product</td>\n",
       "      <td>110 Pcs Outer Space Party Supplies - Solar System Party - Galaxy Theme To the Moon Party Blast Off Party Astronaut Universe Theme Party Astronaut Back To The Moon Balloons</td>\n",
       "      <td>9.99</td>\n",
       "      <td>4.7</td>\n",
       "    </tr>\n",
       "    <tr>\n",
       "      <th>2</th>\n",
       "      <td>product</td>\n",
       "      <td>SUITEDNOMAD Compression Packing Cubes Set,Ultralight Travel Organizer Bags</td>\n",
       "      <td>39.95</td>\n",
       "      <td>4.7</td>\n",
       "    </tr>\n",
       "  </tbody>\n",
       "</table>\n",
       "</div>"
      ],
      "text/plain": [
       "      type  \\\n",
       "0  product   \n",
       "1  product   \n",
       "2  product   \n",
       "\n",
       "                                                                                                                                                                         title  \\\n",
       "0                                                                                                        Rankie RJ45 Cat6 Snagless Ethernet Patch Cable, 5-Pack, 3 Feet, Black   \n",
       "1  110 Pcs Outer Space Party Supplies - Solar System Party - Galaxy Theme To the Moon Party Blast Off Party Astronaut Universe Theme Party Astronaut Back To The Moon Balloons   \n",
       "2                                                                                                   SUITEDNOMAD Compression Packing Cubes Set,Ultralight Travel Organizer Bags   \n",
       "\n",
       "   price  review_rating  \n",
       "0  12.99            4.7  \n",
       "1   9.99            4.7  \n",
       "2  39.95            4.7  "
      ]
     },
     "execution_count": 31,
     "metadata": {},
     "output_type": "execute_result"
    }
   ],
   "source": [
    "results.to_pandas()[[\"type\", \"title\", \"price\", \"review_rating\"]]"
   ]
  },
  {
   "cell_type": "markdown",
   "metadata": {},
   "source": [
    "### Example 3: Titles or keywords\n",
    "\n",
    "Let's make it even more complex:"
   ]
  },
  {
   "cell_type": "code",
   "execution_count": 32,
   "metadata": {},
   "outputs": [
    {
     "data": {
      "text/plain": [
       "{'title_weight': 1.0,\n",
       " 'description_weight': 1.0,\n",
       " 'review_rating_maximizer_weight': 0.0,\n",
       " 'price_minimizer_weights': 0.0,\n",
       " 'limit': 3,\n",
       " 'natural_query': 'Lord of the Rings',\n",
       " 'filter_by_type': None,\n",
       " 'query_description': 'Lord of the Rings',\n",
       " 'query_title': 'Lord of the Rings',\n",
       " 'filter_by_cateogry': None,\n",
       " 'radius_param': None,\n",
       " 'description_similar_clause_weight': 1.0,\n",
       " 'title_similar_clause_weight': 1.0}"
      ]
     },
     "execution_count": 32,
     "metadata": {},
     "output_type": "execute_result"
    }
   ],
   "source": [
    "results = app.query(\n",
    "    query.semantic_query,\n",
    "    natural_query=\"Lord of the Rings\",\n",
    "    limit=3,\n",
    ")\n",
    "results.knn_params"
   ]
  },
  {
   "cell_type": "code",
   "execution_count": 33,
   "metadata": {},
   "outputs": [
    {
     "data": {
      "text/html": [
       "<div>\n",
       "<style scoped>\n",
       "    .dataframe tbody tr th:only-of-type {\n",
       "        vertical-align: middle;\n",
       "    }\n",
       "\n",
       "    .dataframe tbody tr th {\n",
       "        vertical-align: top;\n",
       "    }\n",
       "\n",
       "    .dataframe thead th {\n",
       "        text-align: right;\n",
       "    }\n",
       "</style>\n",
       "<table border=\"1\" class=\"dataframe\">\n",
       "  <thead>\n",
       "    <tr style=\"text-align: right;\">\n",
       "      <th></th>\n",
       "      <th>type</th>\n",
       "      <th>title</th>\n",
       "      <th>price</th>\n",
       "      <th>review_rating</th>\n",
       "    </tr>\n",
       "  </thead>\n",
       "  <tbody>\n",
       "    <tr>\n",
       "      <th>0</th>\n",
       "      <td>product</td>\n",
       "      <td>Funko POP! Movies: Lord of The Rings - Lurtz Collectible Figure</td>\n",
       "      <td>42.99</td>\n",
       "      <td>4.8</td>\n",
       "    </tr>\n",
       "    <tr>\n",
       "      <th>1</th>\n",
       "      <td>product</td>\n",
       "      <td>LEGO The Hobbit Battle of the Five Armies Witch-king Battle 79015</td>\n",
       "      <td>114.00</td>\n",
       "      <td>4.5</td>\n",
       "    </tr>\n",
       "    <tr>\n",
       "      <th>2</th>\n",
       "      <td>product</td>\n",
       "      <td>Lullabb Friendship Couples Gifts Lava Rock Stone Bracelets for Mens Womens, 8MM Natural Howlite Turquoise Essential Oil Diffuser Beads Bangles for Girls Boys</td>\n",
       "      <td>7.36</td>\n",
       "      <td>4.2</td>\n",
       "    </tr>\n",
       "  </tbody>\n",
       "</table>\n",
       "</div>"
      ],
      "text/plain": [
       "      type  \\\n",
       "0  product   \n",
       "1  product   \n",
       "2  product   \n",
       "\n",
       "                                                                                                                                                           title  \\\n",
       "0                                                                                                Funko POP! Movies: Lord of The Rings - Lurtz Collectible Figure   \n",
       "1                                                                                              LEGO The Hobbit Battle of the Five Armies Witch-king Battle 79015   \n",
       "2  Lullabb Friendship Couples Gifts Lava Rock Stone Bracelets for Mens Womens, 8MM Natural Howlite Turquoise Essential Oil Diffuser Beads Bangles for Girls Boys   \n",
       "\n",
       "    price  review_rating  \n",
       "0   42.99            4.8  \n",
       "1  114.00            4.5  \n",
       "2    7.36            4.2  "
      ]
     },
     "execution_count": 33,
     "metadata": {},
     "output_type": "execute_result"
    }
   ],
   "source": [
    "results.to_pandas()[[\"type\", \"title\", \"price\", \"review_rating\"]]"
   ]
  },
  {
   "cell_type": "markdown",
   "metadata": {},
   "source": [
    "### More examples"
   ]
  },
  {
   "cell_type": "code",
   "execution_count": 34,
   "metadata": {},
   "outputs": [
    {
     "data": {
      "text/plain": [
       "{'title_weight': 0.0,\n",
       " 'description_weight': 0.0,\n",
       " 'review_rating_maximizer_weight': 1.0,\n",
       " 'price_minimizer_weights': 1.0,\n",
       " 'limit': 3,\n",
       " 'natural_query': 'Return the top books (along with their price and rating) with the highest reviews rating and lowest price.',\n",
       " 'filter_by_type': 'book',\n",
       " 'query_description': 'highest reviews rating and lowest price',\n",
       " 'query_title': 'books',\n",
       " 'filter_by_cateogry': None,\n",
       " 'radius_param': None,\n",
       " 'description_similar_clause_weight': 1.0,\n",
       " 'title_similar_clause_weight': 1.0}"
      ]
     },
     "execution_count": 34,
     "metadata": {},
     "output_type": "execute_result"
    }
   ],
   "source": [
    "results = app.query(\n",
    "    query.semantic_query,\n",
    "    natural_query=\"Return the top books (along with their price and rating) with the highest reviews rating and lowest price.\",\n",
    "    limit=3\n",
    ")\n",
    "results.knn_params"
   ]
  },
  {
   "cell_type": "code",
   "execution_count": 35,
   "metadata": {},
   "outputs": [
    {
     "data": {
      "text/html": [
       "<div>\n",
       "<style scoped>\n",
       "    .dataframe tbody tr th:only-of-type {\n",
       "        vertical-align: middle;\n",
       "    }\n",
       "\n",
       "    .dataframe tbody tr th {\n",
       "        vertical-align: top;\n",
       "    }\n",
       "\n",
       "    .dataframe thead th {\n",
       "        text-align: right;\n",
       "    }\n",
       "</style>\n",
       "<table border=\"1\" class=\"dataframe\">\n",
       "  <thead>\n",
       "    <tr style=\"text-align: right;\">\n",
       "      <th></th>\n",
       "      <th>type</th>\n",
       "      <th>title</th>\n",
       "      <th>price</th>\n",
       "      <th>review_rating</th>\n",
       "    </tr>\n",
       "  </thead>\n",
       "  <tbody>\n",
       "    <tr>\n",
       "      <th>0</th>\n",
       "      <td>book</td>\n",
       "      <td>Choose: An Invitation to the Best Day Ever Adventure</td>\n",
       "      <td>15.00</td>\n",
       "      <td>5.0</td>\n",
       "    </tr>\n",
       "    <tr>\n",
       "      <th>1</th>\n",
       "      <td>book</td>\n",
       "      <td>33 Days to Morning Glory: A Do-It-Yourself Retreat In Preparation for Marian Consecration</td>\n",
       "      <td>13.49</td>\n",
       "      <td>4.9</td>\n",
       "    </tr>\n",
       "    <tr>\n",
       "      <th>2</th>\n",
       "      <td>book</td>\n",
       "      <td>Mom Set Free - Bible Study Book: Good News for Moms Who are Tired of Trying to be Good Enough</td>\n",
       "      <td>15.99</td>\n",
       "      <td>4.8</td>\n",
       "    </tr>\n",
       "  </tbody>\n",
       "</table>\n",
       "</div>"
      ],
      "text/plain": [
       "   type  \\\n",
       "0  book   \n",
       "1  book   \n",
       "2  book   \n",
       "\n",
       "                                                                                           title  \\\n",
       "0                                           Choose: An Invitation to the Best Day Ever Adventure   \n",
       "1      33 Days to Morning Glory: A Do-It-Yourself Retreat In Preparation for Marian Consecration   \n",
       "2  Mom Set Free - Bible Study Book: Good News for Moms Who are Tired of Trying to be Good Enough   \n",
       "\n",
       "   price  review_rating  \n",
       "0  15.00            5.0  \n",
       "1  13.49            4.9  \n",
       "2  15.99            4.8  "
      ]
     },
     "execution_count": 35,
     "metadata": {},
     "output_type": "execute_result"
    }
   ],
   "source": [
    "results.to_pandas()[[\"type\", \"title\", \"price\", \"review_rating\"]]"
   ]
  },
  {
   "cell_type": "code",
   "execution_count": 36,
   "metadata": {},
   "outputs": [
    {
     "data": {
      "text/plain": [
       "{'title_weight': 1.0,\n",
       " 'description_weight': 1.0,\n",
       " 'review_rating_maximizer_weight': 1.0,\n",
       " 'price_minimizer_weights': 1.0,\n",
       " 'limit': 3,\n",
       " 'natural_query': 'Return the top products (along with their price and review) about cats or dogs with a great price and review',\n",
       " 'filter_by_type': None,\n",
       " 'query_description': 'cats or dogs',\n",
       " 'query_title': 'cats or dogs',\n",
       " 'filter_by_cateogry': None,\n",
       " 'radius_param': None,\n",
       " 'description_similar_clause_weight': 1.0,\n",
       " 'title_similar_clause_weight': 1.0}"
      ]
     },
     "execution_count": 36,
     "metadata": {},
     "output_type": "execute_result"
    }
   ],
   "source": [
    "results = app.query(\n",
    "    query.semantic_query,\n",
    "    natural_query=\"Return the top products (along with their price and review) about cats or dogs with a great price and review\",\n",
    "    limit=3\n",
    ")\n",
    "results.knn_params"
   ]
  },
  {
   "cell_type": "code",
   "execution_count": 37,
   "metadata": {},
   "outputs": [
    {
     "data": {
      "text/html": [
       "<div>\n",
       "<style scoped>\n",
       "    .dataframe tbody tr th:only-of-type {\n",
       "        vertical-align: middle;\n",
       "    }\n",
       "\n",
       "    .dataframe tbody tr th {\n",
       "        vertical-align: top;\n",
       "    }\n",
       "\n",
       "    .dataframe thead th {\n",
       "        text-align: right;\n",
       "    }\n",
       "</style>\n",
       "<table border=\"1\" class=\"dataframe\">\n",
       "  <thead>\n",
       "    <tr style=\"text-align: right;\">\n",
       "      <th></th>\n",
       "      <th>type</th>\n",
       "      <th>title</th>\n",
       "      <th>price</th>\n",
       "      <th>review_rating</th>\n",
       "    </tr>\n",
       "  </thead>\n",
       "  <tbody>\n",
       "    <tr>\n",
       "      <th>0</th>\n",
       "      <td>product</td>\n",
       "      <td>Yorkie Super Soft Slippers - E&amp;S Pets - Yorkie Gifts - Cozy House Slippers - Non Skid Bottom - One Size Fits Most - Sherpa slipper - Pet Lover Gifts For Men And Women</td>\n",
       "      <td>13.98</td>\n",
       "      <td>4.7</td>\n",
       "    </tr>\n",
       "    <tr>\n",
       "      <th>1</th>\n",
       "      <td>product</td>\n",
       "      <td>Pidoko Kids Skylar Dollhouse with 20 Pcs Furniture, 5 Dolls and a Pet Dog</td>\n",
       "      <td>99.97</td>\n",
       "      <td>4.7</td>\n",
       "    </tr>\n",
       "    <tr>\n",
       "      <th>2</th>\n",
       "      <td>product</td>\n",
       "      <td>FurryValley Fursuit Paws Furry Partial Cosplay Fluffy Claw Gloves Costume Lion Bear Props for Kids Adults (Gray)</td>\n",
       "      <td>108.99</td>\n",
       "      <td>4.1</td>\n",
       "    </tr>\n",
       "  </tbody>\n",
       "</table>\n",
       "</div>"
      ],
      "text/plain": [
       "      type  \\\n",
       "0  product   \n",
       "1  product   \n",
       "2  product   \n",
       "\n",
       "                                                                                                                                                                    title  \\\n",
       "0  Yorkie Super Soft Slippers - E&S Pets - Yorkie Gifts - Cozy House Slippers - Non Skid Bottom - One Size Fits Most - Sherpa slipper - Pet Lover Gifts For Men And Women   \n",
       "1                                                                                               Pidoko Kids Skylar Dollhouse with 20 Pcs Furniture, 5 Dolls and a Pet Dog   \n",
       "2                                                        FurryValley Fursuit Paws Furry Partial Cosplay Fluffy Claw Gloves Costume Lion Bear Props for Kids Adults (Gray)   \n",
       "\n",
       "    price  review_rating  \n",
       "0   13.98            4.7  \n",
       "1   99.97            4.7  \n",
       "2  108.99            4.1  "
      ]
     },
     "execution_count": 37,
     "metadata": {},
     "output_type": "execute_result"
    }
   ],
   "source": [
    "results.to_pandas()[[\"type\", \"title\", \"price\", \"review_rating\"]]"
   ]
  },
  {
   "cell_type": "code",
   "execution_count": 38,
   "metadata": {},
   "outputs": [
    {
     "data": {
      "text/plain": [
       "{'title_weight': 1.0,\n",
       " 'description_weight': 1.0,\n",
       " 'review_rating_maximizer_weight': 1.0,\n",
       " 'price_minimizer_weights': -1.0,\n",
       " 'limit': 3,\n",
       " 'natural_query': \"I'm looking for a computer or laptop with a price bigger than 100 and a review bigger than 4\",\n",
       " 'filter_by_type': None,\n",
       " 'query_description': 'computer or laptop',\n",
       " 'query_title': 'computer or laptop',\n",
       " 'filter_by_cateogry': None,\n",
       " 'radius_param': None,\n",
       " 'description_similar_clause_weight': 1.0,\n",
       " 'title_similar_clause_weight': 1.0}"
      ]
     },
     "execution_count": 38,
     "metadata": {},
     "output_type": "execute_result"
    }
   ],
   "source": [
    "results = app.query(\n",
    "    query.semantic_query,\n",
    "    natural_query=\"I'm looking for a computer or laptop with a price bigger than 100 and a review bigger than 4\",\n",
    "    limit=3\n",
    ")\n",
    "results.knn_params"
   ]
  },
  {
   "cell_type": "code",
   "execution_count": 39,
   "metadata": {},
   "outputs": [
    {
     "data": {
      "text/html": [
       "<div>\n",
       "<style scoped>\n",
       "    .dataframe tbody tr th:only-of-type {\n",
       "        vertical-align: middle;\n",
       "    }\n",
       "\n",
       "    .dataframe tbody tr th {\n",
       "        vertical-align: top;\n",
       "    }\n",
       "\n",
       "    .dataframe thead th {\n",
       "        text-align: right;\n",
       "    }\n",
       "</style>\n",
       "<table border=\"1\" class=\"dataframe\">\n",
       "  <thead>\n",
       "    <tr style=\"text-align: right;\">\n",
       "      <th></th>\n",
       "      <th>type</th>\n",
       "      <th>title</th>\n",
       "      <th>price</th>\n",
       "      <th>review_rating</th>\n",
       "    </tr>\n",
       "  </thead>\n",
       "  <tbody>\n",
       "    <tr>\n",
       "      <th>0</th>\n",
       "      <td>product</td>\n",
       "      <td>ZEBRA GX430t Thermal Transfer Desktop Printer Print Width of 4 in USB Serial Parallel and Ethernet Connectivity GX43-102410-000</td>\n",
       "      <td>598.41</td>\n",
       "      <td>4.1</td>\n",
       "    </tr>\n",
       "    <tr>\n",
       "      <th>1</th>\n",
       "      <td>product</td>\n",
       "      <td>MSI Gaming GeForce RTX 3060 Ti LHR 8GB GDRR6 256-Bit HDMI/DP Nvlink Torx Fan 4 RGB Ampere Architecture OC Graphics Card (Gaming X 8G LHR)</td>\n",
       "      <td>524.99</td>\n",
       "      <td>4.7</td>\n",
       "    </tr>\n",
       "    <tr>\n",
       "      <th>2</th>\n",
       "      <td>product</td>\n",
       "      <td>Acer Aspire 1 A115-31-C2Y3, 15.6\" Full HD Display, Intel Celeron N4020, 4GB DDR4, 64GB eMMC, 802.11ac Wi-Fi 5, Up to 10-Hours of Battery Life, Microsoft 365 Personal, Windows 10 in S mode, Black</td>\n",
       "      <td>282.99</td>\n",
       "      <td>4.4</td>\n",
       "    </tr>\n",
       "  </tbody>\n",
       "</table>\n",
       "</div>"
      ],
      "text/plain": [
       "      type  \\\n",
       "0  product   \n",
       "1  product   \n",
       "2  product   \n",
       "\n",
       "                                                                                                                                                                                                title  \\\n",
       "0                                                                     ZEBRA GX430t Thermal Transfer Desktop Printer Print Width of 4 in USB Serial Parallel and Ethernet Connectivity GX43-102410-000   \n",
       "1                                                           MSI Gaming GeForce RTX 3060 Ti LHR 8GB GDRR6 256-Bit HDMI/DP Nvlink Torx Fan 4 RGB Ampere Architecture OC Graphics Card (Gaming X 8G LHR)   \n",
       "2  Acer Aspire 1 A115-31-C2Y3, 15.6\" Full HD Display, Intel Celeron N4020, 4GB DDR4, 64GB eMMC, 802.11ac Wi-Fi 5, Up to 10-Hours of Battery Life, Microsoft 365 Personal, Windows 10 in S mode, Black   \n",
       "\n",
       "    price  review_rating  \n",
       "0  598.41            4.1  \n",
       "1  524.99            4.7  \n",
       "2  282.99            4.4  "
      ]
     },
     "execution_count": 39,
     "metadata": {},
     "output_type": "execute_result"
    }
   ],
   "source": [
    "results.to_pandas()[[\"type\", \"title\", \"price\", \"review_rating\"]]"
   ]
  },
  {
   "cell_type": "markdown",
   "metadata": {},
   "source": [
    "# Next Steps\n",
    "\n",
    "Continue with the **3_tabular_semantic_search_text_to_sql.ipynb** Notebook to learn how to build a tabular semantic search module with text-to-SQL techniques."
   ]
  }
 ],
 "metadata": {
  "kernelspec": {
   "display_name": ".venv",
   "language": "python",
   "name": "python3"
  },
  "language_info": {
   "codemirror_mode": {
    "name": "ipython",
    "version": 3
   },
   "file_extension": ".py",
   "mimetype": "text/x-python",
   "name": "python",
   "nbconvert_exporter": "python",
   "pygments_lexer": "ipython3",
   "version": "3.11.8"
  }
 },
 "nbformat": 4,
 "nbformat_minor": 2
}
